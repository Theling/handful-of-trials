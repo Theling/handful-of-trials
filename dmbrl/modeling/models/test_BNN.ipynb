{
 "cells": [
  {
   "cell_type": "code",
   "execution_count": 2,
   "metadata": {},
   "outputs": [
    {
     "name": "stderr",
     "output_type": "stream",
     "text": [
      "/Users/zhiyuanyao/miniconda3/envs/tf1/lib/python3.7/site-packages/tensorflow/python/framework/dtypes.py:516: FutureWarning: Passing (type, 1) or '1type' as a synonym of type is deprecated; in a future version of numpy, it will be understood as (type, (1,)) / '(1,)type'.\n",
      "  _np_qint8 = np.dtype([(\"qint8\", np.int8, 1)])\n",
      "/Users/zhiyuanyao/miniconda3/envs/tf1/lib/python3.7/site-packages/tensorflow/python/framework/dtypes.py:517: FutureWarning: Passing (type, 1) or '1type' as a synonym of type is deprecated; in a future version of numpy, it will be understood as (type, (1,)) / '(1,)type'.\n",
      "  _np_quint8 = np.dtype([(\"quint8\", np.uint8, 1)])\n",
      "/Users/zhiyuanyao/miniconda3/envs/tf1/lib/python3.7/site-packages/tensorflow/python/framework/dtypes.py:518: FutureWarning: Passing (type, 1) or '1type' as a synonym of type is deprecated; in a future version of numpy, it will be understood as (type, (1,)) / '(1,)type'.\n",
      "  _np_qint16 = np.dtype([(\"qint16\", np.int16, 1)])\n",
      "/Users/zhiyuanyao/miniconda3/envs/tf1/lib/python3.7/site-packages/tensorflow/python/framework/dtypes.py:519: FutureWarning: Passing (type, 1) or '1type' as a synonym of type is deprecated; in a future version of numpy, it will be understood as (type, (1,)) / '(1,)type'.\n",
      "  _np_quint16 = np.dtype([(\"quint16\", np.uint16, 1)])\n",
      "/Users/zhiyuanyao/miniconda3/envs/tf1/lib/python3.7/site-packages/tensorflow/python/framework/dtypes.py:520: FutureWarning: Passing (type, 1) or '1type' as a synonym of type is deprecated; in a future version of numpy, it will be understood as (type, (1,)) / '(1,)type'.\n",
      "  _np_qint32 = np.dtype([(\"qint32\", np.int32, 1)])\n",
      "/Users/zhiyuanyao/miniconda3/envs/tf1/lib/python3.7/site-packages/tensorflow/python/framework/dtypes.py:525: FutureWarning: Passing (type, 1) or '1type' as a synonym of type is deprecated; in a future version of numpy, it will be understood as (type, (1,)) / '(1,)type'.\n",
      "  np_resource = np.dtype([(\"resource\", np.ubyte, 1)])\n",
      "/Users/zhiyuanyao/miniconda3/envs/tf1/lib/python3.7/site-packages/tensorboard/compat/tensorflow_stub/dtypes.py:541: FutureWarning: Passing (type, 1) or '1type' as a synonym of type is deprecated; in a future version of numpy, it will be understood as (type, (1,)) / '(1,)type'.\n",
      "  _np_qint8 = np.dtype([(\"qint8\", np.int8, 1)])\n",
      "/Users/zhiyuanyao/miniconda3/envs/tf1/lib/python3.7/site-packages/tensorboard/compat/tensorflow_stub/dtypes.py:542: FutureWarning: Passing (type, 1) or '1type' as a synonym of type is deprecated; in a future version of numpy, it will be understood as (type, (1,)) / '(1,)type'.\n",
      "  _np_quint8 = np.dtype([(\"quint8\", np.uint8, 1)])\n",
      "/Users/zhiyuanyao/miniconda3/envs/tf1/lib/python3.7/site-packages/tensorboard/compat/tensorflow_stub/dtypes.py:543: FutureWarning: Passing (type, 1) or '1type' as a synonym of type is deprecated; in a future version of numpy, it will be understood as (type, (1,)) / '(1,)type'.\n",
      "  _np_qint16 = np.dtype([(\"qint16\", np.int16, 1)])\n",
      "/Users/zhiyuanyao/miniconda3/envs/tf1/lib/python3.7/site-packages/tensorboard/compat/tensorflow_stub/dtypes.py:544: FutureWarning: Passing (type, 1) or '1type' as a synonym of type is deprecated; in a future version of numpy, it will be understood as (type, (1,)) / '(1,)type'.\n",
      "  _np_quint16 = np.dtype([(\"quint16\", np.uint16, 1)])\n",
      "/Users/zhiyuanyao/miniconda3/envs/tf1/lib/python3.7/site-packages/tensorboard/compat/tensorflow_stub/dtypes.py:545: FutureWarning: Passing (type, 1) or '1type' as a synonym of type is deprecated; in a future version of numpy, it will be understood as (type, (1,)) / '(1,)type'.\n",
      "  _np_qint32 = np.dtype([(\"qint32\", np.int32, 1)])\n",
      "/Users/zhiyuanyao/miniconda3/envs/tf1/lib/python3.7/site-packages/tensorboard/compat/tensorflow_stub/dtypes.py:550: FutureWarning: Passing (type, 1) or '1type' as a synonym of type is deprecated; in a future version of numpy, it will be understood as (type, (1,)) / '(1,)type'.\n",
      "  np_resource = np.dtype([(\"resource\", np.ubyte, 1)])\n"
     ]
    }
   ],
   "source": [
    "import numpy as np\n",
    "import matplotlib.pyplot as plt\n",
    "import sys; sys.path.append(\"/Users/zhiyuanyao/Projects/handful-of-trials\")\n",
    "import seaborn as sns\n",
    "import tensorflow as tf"
   ]
  },
  {
   "cell_type": "code",
   "execution_count": 3,
   "metadata": {},
   "outputs": [],
   "source": [
    "from BNN import BNN\n",
    "from dotmap import DotMap\n",
    "from dmbrl.modeling.layers import FC"
   ]
  },
  {
   "cell_type": "markdown",
   "metadata": {},
   "source": [
    "# create dataset"
   ]
  },
  {
   "cell_type": "code",
   "execution_count": 4,
   "metadata": {},
   "outputs": [],
   "source": [
    "f1 = lambda x: np.sqrt(1-x**2)\n",
    "f2 = lambda x: -np.sqrt(1-x**2)\n",
    "def clip(x,lower, upper):\n",
    "    if x < upper:\n",
    "        if x > lower:\n",
    "            return x\n",
    "        else:\n",
    "            return lower\n",
    "    else:\n",
    "        return upper"
   ]
  },
  {
   "cell_type": "code",
   "execution_count": 5,
   "metadata": {},
   "outputs": [
    {
     "data": {
      "text/plain": [
       "<matplotlib.collections.PathCollection at 0x7ffb59685f10>"
      ]
     },
     "execution_count": 5,
     "metadata": {},
     "output_type": "execute_result"
    },
    {
     "data": {
      "image/png": "[encoded data removed]",
      "text/plain": [
       "<Figure size 432x288 with 1 Axes>"
      ]
     },
     "metadata": {
      "needs_background": "light"
     },
     "output_type": "display_data"
    }
   ],
   "source": [
    "x_ls = np.random.uniform(-1, 1, size = 10000)\n",
    "data = [(x, clip((f1(x) if np.random.uniform()<0.5 else f2(x))+\n",
    "         np.random.normal(scale=0.1), -1.2, 1.2)) for x in x_ls]\n",
    "\n",
    "data_control = [(x, clip((f1(x) if np.random.uniform()<0.5 else f1(x))+\n",
    "         np.random.normal(scale=0.1), -1.2, 1.2)) for x in x_ls]\n",
    "plt.scatter(*zip(*data))"
   ]
  },
  {
   "cell_type": "code",
   "execution_count": 6,
   "metadata": {},
   "outputs": [],
   "source": [
    "x_range = 0.5\n",
    "selected = [item[1] for item in data if x_range-0.01 < item[0] < x_range+0.01 ]"
   ]
  },
  {
   "cell_type": "code",
   "execution_count": 7,
   "metadata": {},
   "outputs": [
    {
     "data": {
      "text/plain": [
       "<seaborn.axisgrid.FacetGrid at 0x7ffb5977ad50>"
      ]
     },
     "execution_count": 7,
     "metadata": {},
     "output_type": "execute_result"
    },
    {
     "data": {
      "image/png": "[encoded data removed]",
      "text/plain": [
       "<Figure size 360x360 with 1 Axes>"
      ]
     },
     "metadata": {
      "needs_background": "light"
     },
     "output_type": "display_data"
    }
   ],
   "source": [
    "sns.displot(selected)"
   ]
  },
  {
   "cell_type": "code",
   "execution_count": 8,
   "metadata": {},
   "outputs": [],
   "source": [
    "def nn_constructor(param, model_in, model_out):\n",
    "    model = BNN(param)\n",
    "    if not param.load_model:\n",
    "        model.add(FC(16, input_dim=model_in, activation=\"swish\", weight_decay=0.000025))\n",
    "        model.add(FC(16, activation=\"swish\", weight_decay=0.000075))\n",
    "        model.add(FC(model_out, weight_decay=0.0001))\n",
    "    model.finalize(tf.train.AdamOptimizer, {\"learning_rate\": 0.001})\n",
    "    return model"
   ]
  },
  {
   "cell_type": "code",
   "execution_count": 9,
   "metadata": {},
   "outputs": [
    {
     "name": "stdout",
     "output_type": "stream",
     "text": [
      "WARNING:tensorflow:From /Users/zhiyuanyao/Projects/handful-of-trials/dmbrl/modeling/models/BNN.py:41: The name tf.ConfigProto is deprecated. Please use tf.compat.v1.ConfigProto instead.\n",
      "\n",
      "WARNING:tensorflow:From /Users/zhiyuanyao/Projects/handful-of-trials/dmbrl/modeling/models/BNN.py:43: The name tf.Session is deprecated. Please use tf.compat.v1.Session instead.\n",
      "\n",
      "Created an ensemble of 3 neural networks with variance predictions.\n",
      "WARNING:tensorflow:From /Users/zhiyuanyao/Projects/handful-of-trials/dmbrl/modeling/models/BNN.py:157: The name tf.variable_scope is deprecated. Please use tf.compat.v1.variable_scope instead.\n",
      "\n",
      "WARNING:tensorflow:From /Users/zhiyuanyao/Projects/handful-of-trials/dmbrl/modeling/utils/TensorStandardScaler.py:22: The name tf.get_variable is deprecated. Please use tf.compat.v1.get_variable instead.\n",
      "\n",
      "WARNING:tensorflow:From /Users/zhiyuanyao/Projects/handful-of-trials/dmbrl/modeling/models/BNN.py:174: The name tf.placeholder is deprecated. Please use tf.compat.v1.placeholder instead.\n",
      "\n",
      "Created an ensemble of 3 neural networks with variance predictions.\n"
     ]
    }
   ],
   "source": [
    "config = DotMap(name = \"BNN\", \n",
    "                model_dir = \"models\", \n",
    "                sess = None, \n",
    "                load_model = False, \n",
    "                num_networks = 3\n",
    "                )\n",
    "\n",
    "config_control = DotMap(name = \"BNN_control\", \n",
    "                model_dir = \"models\", \n",
    "                sess = None, \n",
    "                load_model = False, \n",
    "                num_networks = 3\n",
    "                )\n",
    "\n",
    "model = nn_constructor(config, 1, 1)\n",
    "model_control = nn_constructor(config_control, 1, 1)"
   ]
  },
  {
   "cell_type": "code",
   "execution_count": 10,
   "metadata": {},
   "outputs": [],
   "source": [
    "X, y = list(zip(*data))\n",
    "X = np.array(X).reshape(-1, 1)\n",
    "y = np.array(y).reshape(-1, 1)"
   ]
  },
  {
   "cell_type": "code",
   "execution_count": 11,
   "metadata": {},
   "outputs": [
    {
     "name": "stdout",
     "output_type": "stream",
     "text": [
      "WARNING:tensorflow:From /Users/zhiyuanyao/Projects/handful-of-trials/dmbrl/modeling/utils/TensorStandardScaler.py:47: Variable.load (from tensorflow.python.ops.variables) is deprecated and will be removed in a future version.\n",
      "Instructions for updating:\n",
      "Prefer Variable.assign which has equivalent behavior in 2.X.\n"
     ]
    },
    {
     "name": "stderr",
     "output_type": "stream",
     "text": [
      "Network training: 100%|██████████| 100/100 [02:32<00:00,  1.53s/epoch(s), Training loss(es)=[0.6762904 0.69015   0.6816084]]  \n"
     ]
    }
   ],
   "source": [
    "model.train(X, y)"
   ]
  },
  {
   "cell_type": "code",
   "execution_count": 12,
   "metadata": {},
   "outputs": [],
   "source": [
    "X_control, y_control = list(zip(*data_control))\n",
    "X_control = np.array(X_control).reshape(-1, 1)\n",
    "y_control = np.array(y_control).reshape(-1, 1)"
   ]
  },
  {
   "cell_type": "code",
   "execution_count": 13,
   "metadata": {},
   "outputs": [
    {
     "data": {
      "text/plain": [
       "<matplotlib.collections.PathCollection at 0x7ffb5b6326d0>"
      ]
     },
     "execution_count": 13,
     "metadata": {},
     "output_type": "execute_result"
    },
    {
     "data": {
      "image/png": "[encoded data removed]",
      "text/plain": [
       "<Figure size 432x288 with 1 Axes>"
      ]
     },
     "metadata": {
      "needs_background": "light"
     },
     "output_type": "display_data"
    }
   ],
   "source": [
    "plt.scatter(X_control, y_control)"
   ]
  },
  {
   "cell_type": "code",
   "execution_count": 14,
   "metadata": {},
   "outputs": [
    {
     "name": "stderr",
     "output_type": "stream",
     "text": [
      "Network training: 100%|██████████| 100/100 [03:33<00:00,  2.13s/epoch(s), Training loss(es)=[0.01021336 0.01024883 0.01025242]]\n"
     ]
    }
   ],
   "source": [
    "model_control.train(X_control, y_control)"
   ]
  },
  {
   "cell_type": "code",
   "execution_count": 15,
   "metadata": {},
   "outputs": [],
   "source": [
    "res_control = model_control.predict(np.array([[0], [-1], [1], [0.5], [-0.5]]), factored = True)"
   ]
  },
  {
   "cell_type": "code",
   "execution_count": 16,
   "metadata": {},
   "outputs": [
    {
     "data": {
      "text/plain": [
       "[array([[[-0.0195186 ],\n",
       "         [ 0.00430005],\n",
       "         [-0.01547475],\n",
       "         [-0.01582873],\n",
       "         [-0.01547976]],\n",
       " \n",
       "        [[-0.01368746],\n",
       "         [ 0.05014885],\n",
       "         [ 0.01466596],\n",
       "         [-0.0206842 ],\n",
       "         [-0.0176852 ]],\n",
       " \n",
       "        [[ 0.01224419],\n",
       "         [-0.00274459],\n",
       "         [-0.02149294],\n",
       "         [ 0.00691296],\n",
       "         [ 0.00845396]]], dtype=float32),\n",
       " array([[[0.9239979 ],\n",
       "         [0.06584913],\n",
       "         [0.0628683 ],\n",
       "         [0.8104024 ],\n",
       "         [0.83110136]],\n",
       " \n",
       "        [[0.9249593 ],\n",
       "         [0.06364962],\n",
       "         [0.07321391],\n",
       "         [0.82388806],\n",
       "         [0.81358993]],\n",
       " \n",
       "        [[0.93279123],\n",
       "         [0.06660739],\n",
       "         [0.07196903],\n",
       "         [0.821625  ],\n",
       "         [0.83363974]]], dtype=float32)]"
      ]
     },
     "execution_count": 16,
     "metadata": {},
     "output_type": "execute_result"
    }
   ],
   "source": [
    "res = model.predict(np.array([[0], [-1], [1], [0.5], [-0.5]]), factored = True)\n",
    "\n",
    "res"
   ]
  },
  {
   "cell_type": "code",
   "execution_count": 39,
   "metadata": {},
   "outputs": [
    {
     "data": {
      "text/plain": [
       "2"
      ]
     },
     "execution_count": 39,
     "metadata": {},
     "output_type": "execute_result"
    }
   ],
   "source": [
    "len(res)"
   ]
  },
  {
   "cell_type": "code",
   "execution_count": 47,
   "metadata": {},
   "outputs": [
    {
     "data": {
      "text/plain": [
       "array([[[0.01],\n",
       "        [0.01],\n",
       "        [0.01],\n",
       "        [0.01],\n",
       "        [0.01]],\n",
       "\n",
       "       [[0.01],\n",
       "        [0.01],\n",
       "        [0.01],\n",
       "        [0.01],\n",
       "        [0.01]],\n",
       "\n",
       "       [[0.01],\n",
       "        [0.01],\n",
       "        [0.01],\n",
       "        [0.01],\n",
       "        [0.01]]], dtype=float32)"
      ]
     },
     "execution_count": 47,
     "metadata": {},
     "output_type": "execute_result"
    }
   ],
   "source": [
    "np.round(res_control[1], 2)"
   ]
  },
  {
   "cell_type": "code",
   "execution_count": 44,
   "metadata": {},
   "outputs": [
    {
     "data": {
      "text/plain": [
       "array([[[0.92],\n",
       "        [0.06],\n",
       "        [0.07],\n",
       "        [0.82],\n",
       "        [0.81]],\n",
       "\n",
       "       [[0.92],\n",
       "        [0.06],\n",
       "        [0.07],\n",
       "        [0.82],\n",
       "        [0.81]],\n",
       "\n",
       "       [[0.92],\n",
       "        [0.07],\n",
       "        [0.07],\n",
       "        [0.82],\n",
       "        [0.82]]], dtype=float32)"
      ]
     },
     "execution_count": 44,
     "metadata": {},
     "output_type": "execute_result"
    }
   ],
   "source": [
    "np.round(res[1], 2)"
   ]
  },
  {
   "cell_type": "code",
   "execution_count": 49,
   "metadata": {},
   "outputs": [
    {
     "ename": "Error",
     "evalue": "Canceled future for execute_request message before replies were done",
     "output_type": "error",
     "traceback": [
      "Error: Canceled future for execute_request message before replies were done",
      "at t.KernelShellFutureHandler.dispose (/Users/zhiyuanyao/.vscode/extensions/ms-toolsai.jupyter-2022.3.1000901801/out/extension.js:2:1204175)",
      "at /Users/zhiyuanyao/.vscode/extensions/ms-toolsai.jupyter-2022.3.1000901801/out/extension.js:2:1223227",
      "at Map.forEach (<anonymous>)",
      "at v._clearKernelState (/Users/zhiyuanyao/.vscode/extensions/ms-toolsai.jupyter-2022.3.1000901801/out/extension.js:2:1223212)",
      "at v.dispose (/Users/zhiyuanyao/.vscode/extensions/ms-toolsai.jupyter-2022.3.1000901801/out/extension.js:2:1216694)",
      "at /Users/zhiyuanyao/.vscode/extensions/ms-toolsai.jupyter-2022.3.1000901801/out/extension.js:2:533674",
      "at t.swallowExceptions (/Users/zhiyuanyao/.vscode/extensions/ms-toolsai.jupyter-2022.3.1000901801/out/extension.js:2:913059)",
      "at dispose (/Users/zhiyuanyao/.vscode/extensions/ms-toolsai.jupyter-2022.3.1000901801/out/extension.js:2:533652)",
      "at t.RawSession.dispose (/Users/zhiyuanyao/.vscode/extensions/ms-toolsai.jupyter-2022.3.1000901801/out/extension.js:2:537330)",
      "at runMicrotasks (<anonymous>)",
      "at processTicksAndRejections (node:internal/process/task_queues:96:5)"
     ]
    }
   ],
   "source": [
    "plt.plot(model.predict(np.arange(-1, 1, 0.01).reshape(-1, 1), factored = True)[0][0])\n",
    "plt.plot(model.predict(np.arange(-1, 1, 0.01).reshape(-1, 1), factored = True)[0][1])\n",
    "plt.plot(model.predict(np.arange(-1, 1, 0.01).reshape(-1, 1), factored = True)[0][2])"
   ]
  },
  {
   "cell_type": "code",
   "execution_count": 17,
   "metadata": {},
   "outputs": [
    {
     "ename": "Error",
     "evalue": "Canceled future for execute_request message before replies were done",
     "output_type": "error",
     "traceback": [
      "Error: Canceled future for execute_request message before replies were done",
      "at t.KernelShellFutureHandler.dispose (/Users/zhiyuanyao/.vscode/extensions/ms-toolsai.jupyter-2022.3.1000901801/out/extension.js:2:1204175)",
      "at /Users/zhiyuanyao/.vscode/extensions/ms-toolsai.jupyter-2022.3.1000901801/out/extension.js:2:1223227",
      "at Map.forEach (<anonymous>)",
      "at v._clearKernelState (/Users/zhiyuanyao/.vscode/extensions/ms-toolsai.jupyter-2022.3.1000901801/out/extension.js:2:1223212)",
      "at v.dispose (/Users/zhiyuanyao/.vscode/extensions/ms-toolsai.jupyter-2022.3.1000901801/out/extension.js:2:1216694)",
      "at /Users/zhiyuanyao/.vscode/extensions/ms-toolsai.jupyter-2022.3.1000901801/out/extension.js:2:533674",
      "at t.swallowExceptions (/Users/zhiyuanyao/.vscode/extensions/ms-toolsai.jupyter-2022.3.1000901801/out/extension.js:2:913059)",
      "at dispose (/Users/zhiyuanyao/.vscode/extensions/ms-toolsai.jupyter-2022.3.1000901801/out/extension.js:2:533652)",
      "at t.RawSession.dispose (/Users/zhiyuanyao/.vscode/extensions/ms-toolsai.jupyter-2022.3.1000901801/out/extension.js:2:537330)",
      "at runMicrotasks (<anonymous>)",
      "at processTicksAndRejections (node:internal/process/task_queues:96:5)"
     ]
    }
   ],
   "source": [
    "model.predict(np.arange(-1, 1, 0.01).reshape(-1, 1), factored = True)"
   ]
  },
  {
   "cell_type": "code",
   "execution_count": null,
   "metadata": {},
   "outputs": [],
   "source": [
    "np.arange(-1, 1, 0.01).reshape(-1, 1)"
   ]
  },
  {
   "cell_type": "code",
   "execution_count": null,
   "metadata": {},
   "outputs": [],
   "source": []
  }
 ],
 "metadata": {
  "interpreter": {
   "hash": "b6aab3a0f145b7c031618fa3cda4c40811d156970418ee06a5c623de22d180f5"
  },
  "kernelspec": {
   "display_name": "Python 3.7.9 ('tf1')",
   "language": "python",
   "name": "python3"
  },
  "language_info": {
   "codemirror_mode": {
    "name": "ipython",
    "version": 3
   },
   "file_extension": ".py",
   "mimetype": "text/x-python",
   "name": "python",
   "nbconvert_exporter": "python",
   "pygments_lexer": "ipython3",
   "version": "3.7.9"
  },
  "orig_nbformat": 4
 },
 "nbformat": 4,
 "nbformat_minor": 2
}
